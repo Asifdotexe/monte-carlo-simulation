{
 "cells": [
  {
   "cell_type": "markdown",
   "metadata": {},
   "source": [
    "## Scenario: Rolling a \"100-Sided Metaphorical Dice\"\n",
    "\n",
    "- **Outcome Range**: The user rolls a dice with possible outcomes ranging from 1 to 100.\n",
    "- **Winning Conditions**:\n",
    "  - If the user rolls between 1 and 50, the house wins.\n",
    "  - If the user rolls between 51 and 99, the user wins.\n",
    "  - If the user rolls a 100, the house wins.\n",
    "  \n",
    "- **House Edge**: The house maintains a slight edge of 1% due to the rule that if the dice lands on 100, the house wins.\n",
    "\n",
    "<hr>\n",
    "\n",
    "## Gambler's Fallacy\n",
    "\n",
    "### What is Gambler's Fallacy?\n",
    "\n",
    "The Gambler's Fallacy is a mistaken belief that if an event has occurred multiple times in a row, the opposite outcome is more likely to happen next. For example, if you flip a coin and it lands on heads five times in a row, you might instinctively feel that tails are \"due\" and more likely to come up next.\n",
    "\n",
    "However, this belief is incorrect. The odds of flipping heads or tails remain 50/50 each time, regardless of previous outcomes. Each flip is independent, and past events do not influence future probabilities.\n",
    "\n",
    "<hr>\n",
    "\n",
    "### How Monte Carlo Simulation Illustrates the Gambler's Fallacy\n",
    "\n",
    "Monte Carlo Simulation can be used to demonstrate the flaw in the Gambler's Fallacy by simulating multiple rolls of the dice. No matter how many times a particular outcome occurs, the probability of each specific outcome (in this case, the house or user winning) remains consistent with the defined rules.\n",
    "\n",
    "- **Misconception**: Some gamblers may think that if the user wins several times in a row, the house is \"due\" for a win, and therefore the odds might shift in favor of the house.\n",
    "- **Reality**: The odds do not change based on previous outcomes. Each roll of the dice is independent, and the probability of the user winning remains the same as outlined, regardless of the results of previous rolls.\n",
    "\n",
    "This demonstrates how the Gambler's Fallacy is a cognitive bias rather than a reflection of actual probability."
   ]
  },
  {
   "cell_type": "code",
   "execution_count": 1,
   "metadata": {},
   "outputs": [],
   "source": [
    "import random"
   ]
  },
  {
   "cell_type": "code",
   "execution_count": 19,
   "metadata": {},
   "outputs": [],
   "source": [
    "def rollDice() -> bool:\n",
    "    \"\"\"\n",
    "    This function simulates a roll of a 100-sided dice. The dice has the following winning conditions:\n",
    "    - If the user rolls between 1 and 50, the house wins.\n",
    "    - If the user rolls between 51 and 99, the user wins.\n",
    "    - If the user rolls a 100, the house wins.\n",
    "    The house maintains a slight edge of 1% due to the rule that if the dice lands on 100, the house wins.\n",
    "\n",
    "    :returns: boolean value indicating whether the user wins or loses.\n",
    "    \"\"\"\n",
    "    roll = random.randint(1, 100)\n",
    "\n",
    "    if roll == 100:\n",
    "        return False\n",
    "    elif roll <= 50:\n",
    "        return False\n",
    "    elif 100 > roll > 50:\n",
    "        return True"
   ]
  },
  {
   "cell_type": "code",
   "execution_count": 33,
   "metadata": {},
   "outputs": [],
   "source": [
    "# creating a simple better\n",
    "def simple_better(funds: int, initial_wager: int, wager_count:int) -> None:\n",
    "    \"\"\"\n",
    "    This function simulates a simple betting strategy where the user bets the same amount on each round of a 100-sided dice game.\n",
    "    The dice game has the following winning conditions:\n",
    "    - If the user rolls between 1 and 50, the house wins.\n",
    "    - If the user rolls between 51 and 99, the user wins.\n",
    "    - If the user rolls a 100, the house wins.\n",
    "    The house maintains a slight edge of 1% due to the rule that if the dice lands on 100, the house wins.\n",
    "\n",
    "    :param funds: The initial amount of money the user has to bet with.\n",
    "    :type funds: int\n",
    "    :param initial_wager: The amount of money the user bets on each round.\n",
    "    :type initial_wager: int\n",
    "    :param wager_count: The number of rounds the user will bet on.\n",
    "    :type wager_count: int\n",
    "\n",
    "    :returns: This function does not return a value, but instead prints the funds after each round and the final funds after the wager_count rounds.\n",
    "    :rtype: None\n",
    "\n",
    "    :note: This function does not actually place bets or manage real money. It is a simulation of a betting strategy and should not be used for real-money gambling.\n",
    "    \"\"\"\n",
    "    value = funds\n",
    "    wager = initial_wager\n",
    "\n",
    "    currentWager = 0\n",
    "    while currentWager < wager_count:\n",
    "        if rollDice():\n",
    "            value += wager\n",
    "        else:\n",
    "            value -= wager\n",
    "\n",
    "        currentWager += 1\n",
    "    if value < 0:\n",
    "        print(\"Broke!\")\n",
    "    print(f\"Funds: {value}\")"
   ]
  },
  {
   "cell_type": "code",
   "execution_count": 23,
   "metadata": {},
   "outputs": [
    {
     "name": "stdout",
     "output_type": "stream",
     "text": [
      "Funds: 9200\n"
     ]
    }
   ],
   "source": [
    "# Better 1:\n",
    "simple_better(10_000, 100, 100)"
   ]
  },
  {
   "cell_type": "code",
   "execution_count": 24,
   "metadata": {},
   "outputs": [
    {
     "name": "stdout",
     "output_type": "stream",
     "text": [
      "Funds: 8200\n"
     ]
    }
   ],
   "source": [
    "# Better 2\n",
    "simple_better(10_000, 100, 100)"
   ]
  },
  {
   "cell_type": "code",
   "execution_count": 25,
   "metadata": {},
   "outputs": [
    {
     "name": "stdout",
     "output_type": "stream",
     "text": [
      "Funds: 12600\n"
     ]
    }
   ],
   "source": [
    "# Better 3:\n",
    "simple_better(10_000, 100, 100)"
   ]
  },
  {
   "cell_type": "markdown",
   "metadata": {},
   "source": [
    "**Quick look**: Running the simple better thrice, we saw that 1/3 times he won and 2/3 times he lost with the same stratergy.\n",
    "\n",
    "### Does that mean better 3 had a better strategy?\n",
    "- No, as all 3 of them used the same strategy, but Generally that how we value people based on their profit and not necessarily their's strategy\n",
    "\n",
    "- Statisically there must be people that are really profitable just by odds"
   ]
  },
  {
   "cell_type": "markdown",
   "metadata": {},
   "source": [
    "# Now instead of just looking at 3 betters, let's say we want to look at n number of betters"
   ]
  },
  {
   "cell_type": "code",
   "execution_count": 34,
   "metadata": {},
   "outputs": [],
   "source": [
    "def multiple_betters(funds: int, initial_wager: int, wager_count:int, number_of_betters: int):\n",
    "    for i in range(0, number_of_betters):\n",
    "        simple_better(funds,initial_wager, wager_count)"
   ]
  },
  {
   "cell_type": "code",
   "execution_count": 31,
   "metadata": {},
   "outputs": [
    {
     "name": "stdout",
     "output_type": "stream",
     "text": [
      "Funds: 9400\n",
      "Funds: 9400\n",
      "Funds: 9800\n",
      "Funds: 9800\n",
      "Funds: 11200\n",
      "Funds: 10600\n",
      "Funds: 10200\n",
      "Funds: 10800\n",
      "Funds: 9400\n",
      "Funds: 11400\n",
      "Funds: 8600\n",
      "Funds: 8200\n",
      "Funds: 11400\n",
      "Funds: 8400\n",
      "Funds: 10400\n",
      "Funds: 12400\n",
      "Funds: 9800\n",
      "Funds: 9200\n",
      "Funds: 7600\n",
      "Funds: 10400\n",
      "Funds: 8600\n",
      "Funds: 10800\n",
      "Funds: 10000\n",
      "Funds: 9800\n",
      "Funds: 10400\n",
      "Funds: 10600\n",
      "Funds: 10200\n",
      "Funds: 9800\n",
      "Funds: 9000\n",
      "Funds: 9400\n",
      "Funds: 9400\n",
      "Funds: 9600\n",
      "Funds: 9000\n",
      "Funds: 11800\n",
      "Funds: 9400\n",
      "Funds: 9000\n",
      "Funds: 9200\n",
      "Funds: 10200\n",
      "Funds: 10800\n",
      "Funds: 9800\n",
      "Funds: 8600\n",
      "Funds: 10800\n",
      "Funds: 11200\n",
      "Funds: 10000\n",
      "Funds: 9200\n",
      "Funds: 10600\n",
      "Funds: 9400\n",
      "Funds: 9400\n",
      "Funds: 9000\n",
      "Funds: 10800\n",
      "Funds: 11600\n",
      "Funds: 11400\n",
      "Funds: 8400\n",
      "Funds: 8600\n",
      "Funds: 11200\n",
      "Funds: 10200\n",
      "Funds: 8800\n",
      "Funds: 9200\n",
      "Funds: 10600\n",
      "Funds: 8600\n",
      "Funds: 9200\n",
      "Funds: 8800\n",
      "Funds: 9400\n",
      "Funds: 10400\n",
      "Funds: 8400\n",
      "Funds: 11600\n",
      "Funds: 10000\n",
      "Funds: 10000\n",
      "Funds: 10800\n",
      "Funds: 12600\n",
      "Funds: 10200\n",
      "Funds: 9000\n",
      "Funds: 9000\n",
      "Funds: 10400\n",
      "Funds: 11200\n",
      "Funds: 8800\n",
      "Funds: 9400\n",
      "Funds: 9800\n",
      "Funds: 8200\n",
      "Funds: 10600\n",
      "Funds: 10000\n",
      "Funds: 10400\n",
      "Funds: 11000\n",
      "Funds: 8600\n",
      "Funds: 8800\n",
      "Funds: 10800\n",
      "Funds: 10200\n",
      "Funds: 9600\n",
      "Funds: 10600\n",
      "Funds: 10400\n",
      "Funds: 9800\n",
      "Funds: 10000\n",
      "Funds: 9200\n",
      "Funds: 8600\n",
      "Funds: 11200\n",
      "Funds: 9800\n",
      "Funds: 9000\n",
      "Funds: 10400\n",
      "Funds: 10400\n",
      "Funds: 10200\n"
     ]
    }
   ],
   "source": [
    "# no of betters set to 100\n",
    "multiple_betters(\n",
    "    funds=10_000,\n",
    "    initial_wager=100,\n",
    "    wager_count=100,\n",
    "    number_of_betters=100,\n",
    ")"
   ]
  },
  {
   "cell_type": "code",
   "execution_count": null,
   "metadata": {},
   "outputs": [],
   "source": []
  }
 ],
 "metadata": {
  "kernelspec": {
   "display_name": "Python 3",
   "language": "python",
   "name": "python3"
  },
  "language_info": {
   "codemirror_mode": {
    "name": "ipython",
    "version": 3
   },
   "file_extension": ".py",
   "mimetype": "text/x-python",
   "name": "python",
   "nbconvert_exporter": "python",
   "pygments_lexer": "ipython3",
   "version": "3.11.3"
  }
 },
 "nbformat": 4,
 "nbformat_minor": 2
}
